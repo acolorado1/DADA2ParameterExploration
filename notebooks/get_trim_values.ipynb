{
 "cells": [
  {
   "cell_type": "markdown",
   "source": [
    "## What to consider\n",
    "\n",
    "There is a tradeoff between *Quantity* and *Quality* of the reads that will remain after quality control. This program\n",
    "will attempt to balance these two and optimize the largest number of retained reads with the highest quality.\n",
    "\n",
    "In this case both **trimming** and **maxEE** will be parameters that we consider.\n",
    "\n",
    "### How to do this:\n",
    "\n",
    "1. Perform \"obvious\" trimming\n",
    "    + iterate along the average quality score and eliminate ends below a threshold (default will be 20)\n",
    "\n",
    "2. Create a graph of amplicon size (x-axis) and the average sum of the expected errors (y-axis)\n",
    "    + This will be done by indexing the amplicons to certain lengths and calculating the sum of the expected errors\n",
    "    + Find a threshold\n",
    "    + It will also be done separately for the forward and reverse reads\n",
    "\n",
    "3. The number of reads retained above a certain threshold will be determined\n",
    "    + This allows us to estimate the total number of reads retained\n",
    "\n",
    "4. The next step will be to determine whether lowering the max expected error threshold is needed.\n",
    "    + Can a significant number of reads can be retained with a slight increase of the **maxEE** parameters?\n",
    "    + Plot maxEE (x-axis) vs number of reads retained (y-axis)\n",
    "    + Find a threshold\n",
    "    + Do for both forward and reverse reads\n",
    "\n",
    "## Performing \"Obvious\" Trimming\n",
    "\n",
    "Current industry standards involve looking at a barplot and picking trim values where a noticeable decrease in average\n",
    "quality score at a position on either end of the read occurs. Here we start with the same concept in order to reduce\n",
    "search space.\n",
    "\n",
    "The trim values (or index at which trimming is done) is determined by the first instance an average quality score is\n",
    "below a threshold starting from the center index. This is done because the highest quality scores will be in the middle\n",
    "of the reads.\n",
    "\n",
    "It is also important to note that scores, as output in FASTQ files, are on a scale from 0 to 42 as per Phred quality\n",
    "score standards.\n",
    "\n",
    "Here is a step-by-step process of how this form of trimming is performed."
   ],
   "metadata": {
    "collapsed": false,
    "pycharm": {
     "name": "#%% md\n"
    }
   }
  },
  {
   "cell_type": "code",
   "execution_count": 21,
   "outputs": [],
   "source": [
    "# Step 1: set threshold value\n",
    "threshold = 20\n",
    "\n",
    "# Step 2: middle index is determined\n",
    "list =  [15, 18, 18, 30, 30, 40, 30, 30, 19, 17, 15]\n",
    "\n",
    "mid_index = len(list) // 2\n",
    "\n",
    "# Step 3: travel from center to left and find instance of average score below threshold\n",
    "current_index = mid_index\n",
    "while current_index >= 0:\n",
    "    # if value at current index is below threshold\n",
    "    if list[current_index] < threshold:\n",
    "        # get the prior index\n",
    "        trim_left_index = current_index + 1\n",
    "        break\n",
    "    else:\n",
    "        current_index -= 1\n",
    "\n",
    "# Step 4: similar to step 3 the right index value is found\n",
    "\n",
    "# Step 5: tuple containing left and right trim sites is returned. For the list in this example, the returned value\n",
    "# would be (2, 8)\n"
   ],
   "metadata": {
    "collapsed": false,
    "pycharm": {
     "name": "#%%\n"
    }
   }
  }
 ],
 "metadata": {
  "kernelspec": {
   "name": "pycharm-7798e88c",
   "language": "python",
   "display_name": "PyCharm (DADA2param)"
  },
  "language_info": {
   "codemirror_mode": {
    "name": "ipython",
    "version": 2
   },
   "file_extension": ".py",
   "mimetype": "text/x-python",
   "name": "python",
   "nbconvert_exporter": "python",
   "pygments_lexer": "ipython2",
   "version": "2.7.6"
  }
 },
 "nbformat": 4,
 "nbformat_minor": 0
}