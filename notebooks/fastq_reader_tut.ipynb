{
 "cells": [
  {
   "cell_type": "code",
   "execution_count": 1,
   "metadata": {},
   "outputs": [],
   "source": [
    "import sys\n",
    "\n",
    "sys.path.append(\"..\")\n",
    "from smartdada2.reader.reader import FastqReader"
   ]
  },
  {
   "cell_type": "markdown",
   "metadata": {},
   "source": [
    "## Reader Fastq File with FastqReader class\n",
    "\n",
    "Here we are going to use FastqReader to handle any sequence file specific funtionaility.\n",
    "\n",
    "FastqReader is a memory efficient object to handle sequence data from FastqFiles. The contents within FastqFiles are not loaded into memory thanks to python's generator types. \n",
    "\n",
    "Generators are known as \"lazy iterators\" because they do not iterate until being called. Meaning contents are not loaded until placed in a \"for\" loop. \n",
    "\n",
    "Another thing to be aware of is that generators are not indexable. Unlike lists, you cannot do `generator_object[1]` because index slicing only occurs when an iterator is loaded into memory (which is not the case for generators).\n",
    "\n",
    "Lastly, generators are not saved in memory after being used. A good analogy will be like a ticketing box. Once all the tickets are gone, they are gone. You would have to store the generator into another variable in order for it to be used again. \n",
    "\n",
    "### FastqEntry\n",
    "FastqReader converts all the contents inside the into FastqEntries, which is a fast and memory efficient in iterative processes. \n",
    "\n",
    "This means for every loaded element in a generator is a FastqEntry object.\n",
    "\n",
    "FastqEntry currently has 4 attributes which are `.header, .seq, .scores and .length`"
   ]
  },
  {
   "cell_type": "code",
   "execution_count": 2,
   "metadata": {},
   "outputs": [
    {
     "name": "stdout",
     "output_type": "stream",
     "text": [
      "Total reads: 46136\n",
      "4.57763671875e-05 MB used\n"
     ]
    },
    {
     "name": "stderr",
     "output_type": "stream",
     "text": [
      "/Users/erikserrano/School/CSCI_6611/project/DADA2ParameterExploration/notebooks/../smartdada2/reader/reader.py:173: UserWarning: No reads have been counted. Counting reads now...\n",
      "  warnings.warn(\"No reads have been counted. Counting reads now...\")\n"
     ]
    }
   ],
   "source": [
    "# Loading in fastq Files\n",
    "# loading 27K seqs\n",
    "test_data_file = \"../data/SRR1591840.fastq\"\n",
    "reader = FastqReader(test_data_file)\n",
    "\n",
    "memory_used = sys.getsizeof(reader)/1024**2\n",
    "total_reads = reader.total_reads()\n",
    "\n",
    "#total_reads = reader.total_reads()\n",
    "print(f\"Total reads: {total_reads}\")\n",
    "print(f\"{memory_used} MB used\")\n"
   ]
  },
  {
   "cell_type": "markdown",
   "metadata": {},
   "source": [
    "Below are going to be some examples of FastqReader functionalities after loading."
   ]
  },
  {
   "cell_type": "code",
   "execution_count": 3,
   "metadata": {},
   "outputs": [
    {
     "data": {
      "text/plain": [
       "0"
      ]
     },
     "execution_count": 3,
     "metadata": {},
     "output_type": "execute_result"
    }
   ],
   "source": [
    "reader.n_entries"
   ]
  },
  {
   "cell_type": "code",
   "execution_count": 4,
   "metadata": {},
   "outputs": [
    {
     "name": "stdout",
     "output_type": "stream",
     "text": [
      "This is the datatype: FastqEntry\n",
      "This is the header: @SRR1591840.1.1 1 length=152\n",
      "This is the sequence: ATACGTAGGGGGCAAGCGTTATCCGGATTTACTGGGTGTAAAGGGAGCGTAGACGGCATGGCAAGCCAGATGTGAAAGCCCGGGGCTCAACCCCGGGACTGCATTTGGAACTGTCAGGCTAGAGTGTCGGAGAGGAAAGCGGAATTCCTAGT\n",
      "This is the scores: ????????????????????????????????????????????????????????????????????????????????????????????????????????????????????????????????????????????????????????\n",
      "This is the length: 152\n",
      "\n",
      "This is the datatype: FastqEntry\n",
      "This is the header: @SRR1591840.1.2 1 length=152\n",
      "This is the sequence: ACCTGTTTGCTCCCCACGCTTTCGAGCCTCAACGTCAGTCCTCGTCCAGAAAGCCGCCTTCGCCACTGGTGTTCCTCCTAATATCTACGCATTTCACCGCTACACTAGGAATTCCGCTTACCTCTCCGACACTCAAGCCTGACAGTTTCCAA\n",
      "This is the scores: ????????????????????????????????????????????????????????????????????????????????????????????????????????????????????????????????????????????????????????\n",
      "This is the length: 152\n",
      "\n"
     ]
    }
   ],
   "source": [
    "\n",
    "# iterations \n",
    "# only iterating two entries\n",
    "# -- using enumerate to stop iterating all the entries\n",
    "# showing all attributes of the FastqEntry Object\n",
    "for i, entry in enumerate(reader.iter_reads()):\n",
    "    if i == 2:\n",
    "        break\n",
    "    print(f\"This is the datatype: {entry.__class__.__name__}\")\n",
    "    print(f\"This is the header: {entry.header}\")\n",
    "    print(f\"This is the sequence: {entry.seq}\")\n",
    "    print(f\"This is the scores: {entry.scores}\")\n",
    "    print(f\"This is the length: {entry.length}\")\n",
    "    print()"
   ]
  },
  {
   "cell_type": "code",
   "execution_count": 5,
   "metadata": {},
   "outputs": [
    {
     "name": "stdout",
     "output_type": "stream",
     "text": [
      "size of dataframe (46136, 152)\n"
     ]
    },
    {
     "data": {
      "text/html": [
       "<div>\n",
       "<style scoped>\n",
       "    .dataframe tbody tr th:only-of-type {\n",
       "        vertical-align: middle;\n",
       "    }\n",
       "\n",
       "    .dataframe tbody tr th {\n",
       "        vertical-align: top;\n",
       "    }\n",
       "\n",
       "    .dataframe thead th {\n",
       "        text-align: right;\n",
       "    }\n",
       "</style>\n",
       "<table border=\"1\" class=\"dataframe\">\n",
       "  <thead>\n",
       "    <tr style=\"text-align: right;\">\n",
       "      <th></th>\n",
       "      <th>0</th>\n",
       "      <th>1</th>\n",
       "      <th>2</th>\n",
       "      <th>3</th>\n",
       "      <th>4</th>\n",
       "      <th>5</th>\n",
       "      <th>6</th>\n",
       "      <th>7</th>\n",
       "      <th>8</th>\n",
       "      <th>9</th>\n",
       "      <th>...</th>\n",
       "      <th>142</th>\n",
       "      <th>143</th>\n",
       "      <th>144</th>\n",
       "      <th>145</th>\n",
       "      <th>146</th>\n",
       "      <th>147</th>\n",
       "      <th>148</th>\n",
       "      <th>149</th>\n",
       "      <th>150</th>\n",
       "      <th>151</th>\n",
       "    </tr>\n",
       "  </thead>\n",
       "  <tbody>\n",
       "    <tr>\n",
       "      <th>0</th>\n",
       "      <td>30</td>\n",
       "      <td>30</td>\n",
       "      <td>30</td>\n",
       "      <td>30</td>\n",
       "      <td>30</td>\n",
       "      <td>30</td>\n",
       "      <td>30</td>\n",
       "      <td>30</td>\n",
       "      <td>30</td>\n",
       "      <td>30</td>\n",
       "      <td>...</td>\n",
       "      <td>30</td>\n",
       "      <td>30</td>\n",
       "      <td>30</td>\n",
       "      <td>30</td>\n",
       "      <td>30</td>\n",
       "      <td>30</td>\n",
       "      <td>30</td>\n",
       "      <td>30</td>\n",
       "      <td>30</td>\n",
       "      <td>30</td>\n",
       "    </tr>\n",
       "    <tr>\n",
       "      <th>1</th>\n",
       "      <td>30</td>\n",
       "      <td>30</td>\n",
       "      <td>30</td>\n",
       "      <td>30</td>\n",
       "      <td>30</td>\n",
       "      <td>30</td>\n",
       "      <td>30</td>\n",
       "      <td>30</td>\n",
       "      <td>30</td>\n",
       "      <td>30</td>\n",
       "      <td>...</td>\n",
       "      <td>30</td>\n",
       "      <td>30</td>\n",
       "      <td>30</td>\n",
       "      <td>30</td>\n",
       "      <td>30</td>\n",
       "      <td>30</td>\n",
       "      <td>30</td>\n",
       "      <td>30</td>\n",
       "      <td>30</td>\n",
       "      <td>30</td>\n",
       "    </tr>\n",
       "    <tr>\n",
       "      <th>2</th>\n",
       "      <td>30</td>\n",
       "      <td>30</td>\n",
       "      <td>30</td>\n",
       "      <td>30</td>\n",
       "      <td>30</td>\n",
       "      <td>30</td>\n",
       "      <td>30</td>\n",
       "      <td>30</td>\n",
       "      <td>30</td>\n",
       "      <td>30</td>\n",
       "      <td>...</td>\n",
       "      <td>30</td>\n",
       "      <td>30</td>\n",
       "      <td>30</td>\n",
       "      <td>30</td>\n",
       "      <td>30</td>\n",
       "      <td>30</td>\n",
       "      <td>30</td>\n",
       "      <td>30</td>\n",
       "      <td>30</td>\n",
       "      <td>30</td>\n",
       "    </tr>\n",
       "    <tr>\n",
       "      <th>3</th>\n",
       "      <td>30</td>\n",
       "      <td>30</td>\n",
       "      <td>30</td>\n",
       "      <td>30</td>\n",
       "      <td>30</td>\n",
       "      <td>30</td>\n",
       "      <td>30</td>\n",
       "      <td>30</td>\n",
       "      <td>30</td>\n",
       "      <td>30</td>\n",
       "      <td>...</td>\n",
       "      <td>30</td>\n",
       "      <td>30</td>\n",
       "      <td>30</td>\n",
       "      <td>30</td>\n",
       "      <td>30</td>\n",
       "      <td>30</td>\n",
       "      <td>30</td>\n",
       "      <td>30</td>\n",
       "      <td>30</td>\n",
       "      <td>30</td>\n",
       "    </tr>\n",
       "    <tr>\n",
       "      <th>4</th>\n",
       "      <td>30</td>\n",
       "      <td>30</td>\n",
       "      <td>30</td>\n",
       "      <td>30</td>\n",
       "      <td>30</td>\n",
       "      <td>30</td>\n",
       "      <td>30</td>\n",
       "      <td>30</td>\n",
       "      <td>30</td>\n",
       "      <td>30</td>\n",
       "      <td>...</td>\n",
       "      <td>30</td>\n",
       "      <td>30</td>\n",
       "      <td>30</td>\n",
       "      <td>30</td>\n",
       "      <td>30</td>\n",
       "      <td>30</td>\n",
       "      <td>30</td>\n",
       "      <td>30</td>\n",
       "      <td>30</td>\n",
       "      <td>30</td>\n",
       "    </tr>\n",
       "  </tbody>\n",
       "</table>\n",
       "<p>5 rows × 152 columns</p>\n",
       "</div>"
      ],
      "text/plain": [
       "   0    1    2    3    4    5    6    7    8    9    ...  142  143  144  145  \\\n",
       "0   30   30   30   30   30   30   30   30   30   30  ...   30   30   30   30   \n",
       "1   30   30   30   30   30   30   30   30   30   30  ...   30   30   30   30   \n",
       "2   30   30   30   30   30   30   30   30   30   30  ...   30   30   30   30   \n",
       "3   30   30   30   30   30   30   30   30   30   30  ...   30   30   30   30   \n",
       "4   30   30   30   30   30   30   30   30   30   30  ...   30   30   30   30   \n",
       "\n",
       "   146  147  148  149  150  151  \n",
       "0   30   30   30   30   30   30  \n",
       "1   30   30   30   30   30   30  \n",
       "2   30   30   30   30   30   30  \n",
       "3   30   30   30   30   30   30  \n",
       "4   30   30   30   30   30   30  \n",
       "\n",
       "[5 rows x 152 columns]"
      ]
     },
     "execution_count": 5,
     "metadata": {},
     "output_type": "execute_result"
    }
   ],
   "source": [
    "# getting all scores translated into numbers per sequence\n",
    "# -- this will return a pandas data frame\n",
    "# the size of the dataframe is represented like: (n_seqs, seq_length)\n",
    "all_scores_df = reader.get_quality_scores()\n",
    "print(f\"size of dataframe {all_scores_df.shape}\")\n",
    "all_scores_df.head()"
   ]
  },
  {
   "cell_type": "code",
   "execution_count": 6,
   "metadata": {},
   "outputs": [
    {
     "name": "stdout",
     "output_type": "stream",
     "text": [
      "Series shape: f(152,)\n"
     ]
    }
   ],
   "source": [
    "# if we are not interested of getting all scores per sequence, we can get the average\n",
    "# the shape represents average quality score per base pair \n",
    "avg_score_series = reader.get_average_score()\n",
    "print(f\"Series shape: f{avg_score_series.shape}\")"
   ]
  },
  {
   "cell_type": "code",
   "execution_count": 7,
   "metadata": {},
   "outputs": [
    {
     "data": {
      "text/plain": [
       "46136"
      ]
     },
     "execution_count": 7,
     "metadata": {},
     "output_type": "execute_result"
    }
   ],
   "source": [
    "reader.total_reads()"
   ]
  },
  {
   "cell_type": "code",
   "execution_count": null,
   "metadata": {},
   "outputs": [],
   "source": []
  }
 ],
 "metadata": {
  "kernelspec": {
   "display_name": "Python 3.10.6 ('datasci')",
   "language": "python",
   "name": "python3"
  },
  "language_info": {
   "codemirror_mode": {
    "name": "ipython",
    "version": 3
   },
   "file_extension": ".py",
   "mimetype": "text/x-python",
   "name": "python",
   "nbconvert_exporter": "python",
   "pygments_lexer": "ipython3",
   "version": "3.10.6"
  },
  "orig_nbformat": 4,
  "vscode": {
   "interpreter": {
    "hash": "6763a51aae8a0c25edf82fa56f221cfee97a9fe5bbe42775d95229c47c8ec475"
   }
  }
 },
 "nbformat": 4,
 "nbformat_minor": 2
}
